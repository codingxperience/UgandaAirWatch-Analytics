{
 "cells": [
  {
   "cell_type": "code",
   "execution_count": 7,
   "metadata": {},
   "outputs": [],
   "source": [
    "import pandas as pd\n",
    "import requests\n",
    "import seaborn as sns\n",
    "import matplotlib.pyplot as plt"
   ]
  },
  {
   "cell_type": "code",
   "execution_count": 8,
   "metadata": {},
   "outputs": [],
   "source": [
    "res = requests.get(\"https://api.openaq.org/v2/locations?country=UG\", headers={\"X-API-Key\": \"\"})\n",
    "json_data = res.json()\n",
    "results = json_data.get('results', [])"
   ]
  },
  {
   "cell_type": "code",
   "execution_count": 9,
   "metadata": {},
   "outputs": [
    {
     "data": {
      "text/html": [
       "<div>\n",
       "<style scoped>\n",
       "    .dataframe tbody tr th:only-of-type {\n",
       "        vertical-align: middle;\n",
       "    }\n",
       "\n",
       "    .dataframe tbody tr th {\n",
       "        vertical-align: top;\n",
       "    }\n",
       "\n",
       "    .dataframe thead th {\n",
       "        text-align: right;\n",
       "    }\n",
       "</style>\n",
       "<table border=\"1\" class=\"dataframe\">\n",
       "  <thead>\n",
       "    <tr style=\"text-align: right;\">\n",
       "      <th></th>\n",
       "      <th>id</th>\n",
       "      <th>city</th>\n",
       "      <th>name</th>\n",
       "      <th>entity</th>\n",
       "      <th>country</th>\n",
       "      <th>sources</th>\n",
       "      <th>isMobile</th>\n",
       "      <th>isAnalysis</th>\n",
       "      <th>parameters</th>\n",
       "      <th>sensorType</th>\n",
       "      <th>coordinates</th>\n",
       "      <th>lastUpdated</th>\n",
       "      <th>firstUpdated</th>\n",
       "      <th>measurements</th>\n",
       "      <th>bounds</th>\n",
       "      <th>manufacturers</th>\n",
       "    </tr>\n",
       "  </thead>\n",
       "  <tbody>\n",
       "    <tr>\n",
       "      <th>0</th>\n",
       "      <td>367238</td>\n",
       "      <td>None</td>\n",
       "      <td>Byakabanda HC3</td>\n",
       "      <td>None</td>\n",
       "      <td>UG</td>\n",
       "      <td>None</td>\n",
       "      <td>False</td>\n",
       "      <td>None</td>\n",
       "      <td>[{'id': 133, 'unit': 'particles/cm³', 'count':...</td>\n",
       "      <td>None</td>\n",
       "      <td>{'latitude': -0.75919, 'longitude': 31.385141}</td>\n",
       "      <td>2023-11-28T11:43:47+00:00</td>\n",
       "      <td>2022-10-20T14:31:28+00:00</td>\n",
       "      <td>1266672</td>\n",
       "      <td>[31.385141, -0.75919, 31.385141, -0.75919]</td>\n",
       "      <td>[{'modelName': 'PurpleAir Sensor', 'manufactur...</td>\n",
       "    </tr>\n",
       "    <tr>\n",
       "      <th>1</th>\n",
       "      <td>1443366</td>\n",
       "      <td>None</td>\n",
       "      <td>Mutukula HC3</td>\n",
       "      <td>None</td>\n",
       "      <td>UG</td>\n",
       "      <td>None</td>\n",
       "      <td>False</td>\n",
       "      <td>None</td>\n",
       "      <td>[{'id': 126, 'unit': 'particles/cm³', 'count':...</td>\n",
       "      <td>None</td>\n",
       "      <td>{'latitude': -0.99005, 'longitude': 31.41993}</td>\n",
       "      <td>2023-11-28T11:43:44+00:00</td>\n",
       "      <td>2023-08-16T18:48:54+00:00</td>\n",
       "      <td>113136</td>\n",
       "      <td>[31.41993, -0.99005, 31.41993, -0.99005]</td>\n",
       "      <td>[{'modelName': 'N/A', 'manufacturerName': 'Ope...</td>\n",
       "    </tr>\n",
       "    <tr>\n",
       "      <th>2</th>\n",
       "      <td>368621</td>\n",
       "      <td>None</td>\n",
       "      <td>Nyendo HC3</td>\n",
       "      <td>None</td>\n",
       "      <td>UG</td>\n",
       "      <td>None</td>\n",
       "      <td>False</td>\n",
       "      <td>None</td>\n",
       "      <td>[{'id': 132, 'unit': 'mb', 'count': 76009, 'av...</td>\n",
       "      <td>None</td>\n",
       "      <td>{'latitude': -0.32349, 'longitude': 31.76217}</td>\n",
       "      <td>2023-11-28T11:43:36+00:00</td>\n",
       "      <td>2022-10-25T00:25:08+00:00</td>\n",
       "      <td>1293211</td>\n",
       "      <td>[31.76217, -0.32349, 31.76217, -0.32349]</td>\n",
       "      <td>[{'modelName': 'PurpleAir Sensor', 'manufactur...</td>\n",
       "    </tr>\n",
       "    <tr>\n",
       "      <th>3</th>\n",
       "      <td>370296</td>\n",
       "      <td>None</td>\n",
       "      <td>UVRI</td>\n",
       "      <td>None</td>\n",
       "      <td>UG</td>\n",
       "      <td>None</td>\n",
       "      <td>False</td>\n",
       "      <td>None</td>\n",
       "      <td>[{'id': 130, 'unit': 'particles/cm³', 'count':...</td>\n",
       "      <td>None</td>\n",
       "      <td>{'latitude': 0.07483, 'longitude': 32.45825}</td>\n",
       "      <td>2023-11-28T11:43:27+00:00</td>\n",
       "      <td>2022-10-30T14:24:05+00:00</td>\n",
       "      <td>785658</td>\n",
       "      <td>[32.45825, 0.07483, 32.45825, 0.07483]</td>\n",
       "      <td>[{'modelName': 'PurpleAir Sensor', 'manufactur...</td>\n",
       "    </tr>\n",
       "    <tr>\n",
       "      <th>4</th>\n",
       "      <td>370297</td>\n",
       "      <td>None</td>\n",
       "      <td>UroCare</td>\n",
       "      <td>None</td>\n",
       "      <td>UG</td>\n",
       "      <td>None</td>\n",
       "      <td>False</td>\n",
       "      <td>None</td>\n",
       "      <td>[{'id': 2, 'unit': 'µg/m³', 'count': 101212, '...</td>\n",
       "      <td>None</td>\n",
       "      <td>{'latitude': 0.35329, 'longitude': 32.53511}</td>\n",
       "      <td>2023-11-28T11:42:50+00:00</td>\n",
       "      <td>2022-11-07T16:25:09+00:00</td>\n",
       "      <td>926808</td>\n",
       "      <td>[32.53511, 0.35329, 32.53511, 0.35329]</td>\n",
       "      <td>[{'modelName': 'PurpleAir Sensor', 'manufactur...</td>\n",
       "    </tr>\n",
       "  </tbody>\n",
       "</table>\n",
       "</div>"
      ],
      "text/plain": [
       "        id  city            name entity country sources  isMobile isAnalysis  \\\n",
       "0   367238  None  Byakabanda HC3   None      UG    None     False       None   \n",
       "1  1443366  None    Mutukula HC3   None      UG    None     False       None   \n",
       "2   368621  None      Nyendo HC3   None      UG    None     False       None   \n",
       "3   370296  None            UVRI   None      UG    None     False       None   \n",
       "4   370297  None         UroCare   None      UG    None     False       None   \n",
       "\n",
       "                                          parameters sensorType  \\\n",
       "0  [{'id': 133, 'unit': 'particles/cm³', 'count':...       None   \n",
       "1  [{'id': 126, 'unit': 'particles/cm³', 'count':...       None   \n",
       "2  [{'id': 132, 'unit': 'mb', 'count': 76009, 'av...       None   \n",
       "3  [{'id': 130, 'unit': 'particles/cm³', 'count':...       None   \n",
       "4  [{'id': 2, 'unit': 'µg/m³', 'count': 101212, '...       None   \n",
       "\n",
       "                                      coordinates                lastUpdated  \\\n",
       "0  {'latitude': -0.75919, 'longitude': 31.385141}  2023-11-28T11:43:47+00:00   \n",
       "1   {'latitude': -0.99005, 'longitude': 31.41993}  2023-11-28T11:43:44+00:00   \n",
       "2   {'latitude': -0.32349, 'longitude': 31.76217}  2023-11-28T11:43:36+00:00   \n",
       "3    {'latitude': 0.07483, 'longitude': 32.45825}  2023-11-28T11:43:27+00:00   \n",
       "4    {'latitude': 0.35329, 'longitude': 32.53511}  2023-11-28T11:42:50+00:00   \n",
       "\n",
       "                firstUpdated  measurements  \\\n",
       "0  2022-10-20T14:31:28+00:00       1266672   \n",
       "1  2023-08-16T18:48:54+00:00        113136   \n",
       "2  2022-10-25T00:25:08+00:00       1293211   \n",
       "3  2022-10-30T14:24:05+00:00        785658   \n",
       "4  2022-11-07T16:25:09+00:00        926808   \n",
       "\n",
       "                                       bounds  \\\n",
       "0  [31.385141, -0.75919, 31.385141, -0.75919]   \n",
       "1    [31.41993, -0.99005, 31.41993, -0.99005]   \n",
       "2    [31.76217, -0.32349, 31.76217, -0.32349]   \n",
       "3      [32.45825, 0.07483, 32.45825, 0.07483]   \n",
       "4      [32.53511, 0.35329, 32.53511, 0.35329]   \n",
       "\n",
       "                                       manufacturers  \n",
       "0  [{'modelName': 'PurpleAir Sensor', 'manufactur...  \n",
       "1  [{'modelName': 'N/A', 'manufacturerName': 'Ope...  \n",
       "2  [{'modelName': 'PurpleAir Sensor', 'manufactur...  \n",
       "3  [{'modelName': 'PurpleAir Sensor', 'manufactur...  \n",
       "4  [{'modelName': 'PurpleAir Sensor', 'manufactur...  "
      ]
     },
     "execution_count": 9,
     "metadata": {},
     "output_type": "execute_result"
    }
   ],
   "source": [
    "# convert json to dataframe\n",
    "data = pd.DataFrame(results)\n",
    "data.head()"
   ]
  },
  {
   "cell_type": "code",
   "execution_count": null,
   "metadata": {},
   "outputs": [],
   "source": [
    "# data[['name']]"
   ]
  },
  {
   "cell_type": "code",
   "execution_count": 10,
   "metadata": {},
   "outputs": [
    {
     "name": "stdout",
     "output_type": "stream",
     "text": [
      "<class 'pandas.core.frame.DataFrame'>\n",
      "RangeIndex: 47 entries, 0 to 46\n",
      "Data columns (total 16 columns):\n",
      " #   Column         Non-Null Count  Dtype \n",
      "---  ------         --------------  ----- \n",
      " 0   id             47 non-null     int64 \n",
      " 1   city           1 non-null      object\n",
      " 2   name           47 non-null     object\n",
      " 3   entity         0 non-null      object\n",
      " 4   country        47 non-null     object\n",
      " 5   sources        0 non-null      object\n",
      " 6   isMobile       47 non-null     bool  \n",
      " 7   isAnalysis     0 non-null      object\n",
      " 8   parameters     47 non-null     object\n",
      " 9   sensorType     0 non-null      object\n",
      " 10  coordinates    47 non-null     object\n",
      " 11  lastUpdated    47 non-null     object\n",
      " 12  firstUpdated   47 non-null     object\n",
      " 13  measurements   47 non-null     int64 \n",
      " 14  bounds         47 non-null     object\n",
      " 15  manufacturers  47 non-null     object\n",
      "dtypes: bool(1), int64(2), object(13)\n",
      "memory usage: 5.7+ KB\n"
     ]
    }
   ],
   "source": [
    "# general info\n",
    "data.info()"
   ]
  },
  {
   "cell_type": "code",
   "execution_count": 11,
   "metadata": {},
   "outputs": [
    {
     "data": {
      "text/plain": [
       "(47, 16)"
      ]
     },
     "execution_count": 11,
     "metadata": {},
     "output_type": "execute_result"
    }
   ],
   "source": [
    "# number of rows, number of columns\n",
    "data.shape"
   ]
  },
  {
   "cell_type": "code",
   "execution_count": 12,
   "metadata": {},
   "outputs": [
    {
     "data": {
      "text/plain": [
       "id                int64\n",
       "city             object\n",
       "name             object\n",
       "entity           object\n",
       "country          object\n",
       "sources          object\n",
       "isMobile           bool\n",
       "isAnalysis       object\n",
       "parameters       object\n",
       "sensorType       object\n",
       "coordinates      object\n",
       "lastUpdated      object\n",
       "firstUpdated     object\n",
       "measurements      int64\n",
       "bounds           object\n",
       "manufacturers    object\n",
       "dtype: object"
      ]
     },
     "execution_count": 12,
     "metadata": {},
     "output_type": "execute_result"
    }
   ],
   "source": [
    "data.dtypes"
   ]
  },
  {
   "cell_type": "code",
   "execution_count": 13,
   "metadata": {},
   "outputs": [
    {
     "name": "stdout",
     "output_type": "stream",
     "text": [
      "Number of features/variables: 16\n"
     ]
    }
   ],
   "source": [
    "# Number of features/variables\n",
    "num_variables = len(data.columns)\n",
    "print(f\"Number of features/variables: {num_variables}\")"
   ]
  },
  {
   "cell_type": "markdown",
   "metadata": {},
   "source": [
    "Type of Each Feature:\n",
    "\n",
    "| **Categorical Features** | **Numerical Features**      | **Temporal Features**       |\n",
    "|--------------------------|-----------------------------|-----------------------------|\n",
    "| city                     | id                          | lastUpdated                 |\n",
    "| name                     | isMobile                    | firstUpdated                |\n",
    "| entity                   | isAnalysis                  |                             |\n",
    "| country                  | parameters                  |                             |\n",
    "| sources                  | coordinates                 |                             |\n",
    "| sensorType               | lastUpdated                 |                             |\n",
    "| manufacturers            | firstUpdated                |      "
   ]
  },
  {
   "cell_type": "code",
   "execution_count": null,
   "metadata": {},
   "outputs": [],
   "source": [
    "# Check for missing values in the dataset\n",
    "data.isnull()"
   ]
  },
  {
   "cell_type": "code",
   "execution_count": null,
   "metadata": {},
   "outputs": [],
   "source": [
    "# Count the number of missing values for each feature\n",
    "data.isnull().sum()\n"
   ]
  },
  {
   "cell_type": "code",
   "execution_count": null,
   "metadata": {},
   "outputs": [],
   "source": [
    "# Select only the relevant columns\n",
    "selected_columns = ['id', 'name', 'country', 'isMobile', 'parameters', 'coordinates', 'lastUpdated',\n",
    "                     'firstUpdated', 'measurements', 'bounds', 'manufacturers']\n",
    "\n",
    "# Subset the DataFrame with relevant columns\n",
    "selected_df = data[selected_columns]\n",
    "\n",
    "selected_df.head()"
   ]
  },
  {
   "cell_type": "code",
   "execution_count": null,
   "metadata": {},
   "outputs": [],
   "source": [
    "selected_df.describe()"
   ]
  }
 ],
 "metadata": {
  "kernelspec": {
   "display_name": "data_analysis_theory",
   "language": "python",
   "name": "python3"
  },
  "language_info": {
   "codemirror_mode": {
    "name": "ipython",
    "version": 3
   },
   "file_extension": ".py",
   "mimetype": "text/x-python",
   "name": "python",
   "nbconvert_exporter": "python",
   "pygments_lexer": "ipython3",
   "version": "3.12.0"
  }
 },
 "nbformat": 4,
 "nbformat_minor": 2
}
