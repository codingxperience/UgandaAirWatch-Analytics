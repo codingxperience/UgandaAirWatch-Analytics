{
 "cells": [
  {
   "cell_type": "code",
   "execution_count": 18,
   "metadata": {},
   "outputs": [],
   "source": [
    "import pandas as pd\n",
    "import requests\n",
    "import seaborn as sns\n",
    "import matplotlib.pyplot as plt\n",
    "import geopandas as gpd\n",
    "from shapely.geometry import Point\n",
    "from matplotlib.colors import LogNorm\n",
    "from mpl_toolkits.axes_grid1 import make_axes_locatable"
   ]
  },
  {
   "cell_type": "code",
   "execution_count": 19,
   "metadata": {},
   "outputs": [],
   "source": [
    "res = requests.get(\"https://api.openaq.org/v2/locations?country=UG\", headers={\"X-API-Key\": \"\"})\n",
    "json_data = res.json()\n",
    "results = json_data.get('results', [])"
   ]
  },
  {
   "cell_type": "code",
   "execution_count": 20,
   "metadata": {},
   "outputs": [
    {
     "data": {
      "text/html": [
       "<div>\n",
       "<style scoped>\n",
       "    .dataframe tbody tr th:only-of-type {\n",
       "        vertical-align: middle;\n",
       "    }\n",
       "\n",
       "    .dataframe tbody tr th {\n",
       "        vertical-align: top;\n",
       "    }\n",
       "\n",
       "    .dataframe thead th {\n",
       "        text-align: right;\n",
       "    }\n",
       "</style>\n",
       "<table border=\"1\" class=\"dataframe\">\n",
       "  <thead>\n",
       "    <tr style=\"text-align: right;\">\n",
       "      <th></th>\n",
       "      <th>id</th>\n",
       "      <th>city</th>\n",
       "      <th>name</th>\n",
       "      <th>entity</th>\n",
       "      <th>country</th>\n",
       "      <th>sources</th>\n",
       "      <th>isMobile</th>\n",
       "      <th>isAnalysis</th>\n",
       "      <th>parameters</th>\n",
       "      <th>sensorType</th>\n",
       "      <th>coordinates</th>\n",
       "      <th>lastUpdated</th>\n",
       "      <th>firstUpdated</th>\n",
       "      <th>measurements</th>\n",
       "      <th>bounds</th>\n",
       "      <th>manufacturers</th>\n",
       "    </tr>\n",
       "  </thead>\n",
       "  <tbody>\n",
       "    <tr>\n",
       "      <th>0</th>\n",
       "      <td>526189</td>\n",
       "      <td>None</td>\n",
       "      <td>RHSP</td>\n",
       "      <td>None</td>\n",
       "      <td>UG</td>\n",
       "      <td>None</td>\n",
       "      <td>False</td>\n",
       "      <td>None</td>\n",
       "      <td>[{'id': 135, 'unit': 'particles/cm³', 'count':...</td>\n",
       "      <td>None</td>\n",
       "      <td>{'latitude': -0.53842, 'longitude': 31.62202}</td>\n",
       "      <td>2023-11-28T17:19:04+00:00</td>\n",
       "      <td>2020-07-07T00:16:13+00:00</td>\n",
       "      <td>1086031</td>\n",
       "      <td>[31.62202, -0.53842, 31.62202, -0.53842]</td>\n",
       "      <td>[{'modelName': 'PurpleAir Sensor', 'manufactur...</td>\n",
       "    </tr>\n",
       "    <tr>\n",
       "      <th>1</th>\n",
       "      <td>370295</td>\n",
       "      <td>None</td>\n",
       "      <td>KG Farm</td>\n",
       "      <td>None</td>\n",
       "      <td>UG</td>\n",
       "      <td>None</td>\n",
       "      <td>False</td>\n",
       "      <td>None</td>\n",
       "      <td>[{'id': 130, 'unit': 'particles/cm³', 'count':...</td>\n",
       "      <td>None</td>\n",
       "      <td>{'latitude': 0.29693, 'longitude': 32.44406}</td>\n",
       "      <td>2023-11-28T17:18:51+00:00</td>\n",
       "      <td>2022-07-18T16:26:03+00:00</td>\n",
       "      <td>766218</td>\n",
       "      <td>[32.44406, 0.29693, 32.44406, 0.29693]</td>\n",
       "      <td>[{'modelName': 'PurpleAir Sensor', 'manufactur...</td>\n",
       "    </tr>\n",
       "    <tr>\n",
       "      <th>2</th>\n",
       "      <td>747107</td>\n",
       "      <td>None</td>\n",
       "      <td>Lyantonde RHSP</td>\n",
       "      <td>None</td>\n",
       "      <td>UG</td>\n",
       "      <td>None</td>\n",
       "      <td>False</td>\n",
       "      <td>None</td>\n",
       "      <td>[{'id': 2, 'unit': 'µg/m³', 'count': 94614, 'a...</td>\n",
       "      <td>None</td>\n",
       "      <td>{'latitude': -0.407055, 'longitude': 31.15865}</td>\n",
       "      <td>2023-11-28T17:18:40+00:00</td>\n",
       "      <td>2023-03-22T16:00:01+00:00</td>\n",
       "      <td>988584</td>\n",
       "      <td>[31.15865, -0.407055, 31.15865, -0.407055]</td>\n",
       "      <td>[{'modelName': 'PurpleAir Sensor', 'manufactur...</td>\n",
       "    </tr>\n",
       "    <tr>\n",
       "      <th>3</th>\n",
       "      <td>551971</td>\n",
       "      <td>None</td>\n",
       "      <td>IPA Busia</td>\n",
       "      <td>None</td>\n",
       "      <td>UG</td>\n",
       "      <td>None</td>\n",
       "      <td>False</td>\n",
       "      <td>None</td>\n",
       "      <td>[{'id': 133, 'unit': 'particles/cm³', 'count':...</td>\n",
       "      <td>None</td>\n",
       "      <td>{'latitude': 0.455464, 'longitude': 34.12366}</td>\n",
       "      <td>2023-11-28T17:18:35+00:00</td>\n",
       "      <td>2023-02-01T07:13:34+00:00</td>\n",
       "      <td>1076844</td>\n",
       "      <td>[34.12366, 0.455464, 34.12366, 0.455464]</td>\n",
       "      <td>[{'modelName': 'PurpleAir Sensor', 'manufactur...</td>\n",
       "    </tr>\n",
       "    <tr>\n",
       "      <th>4</th>\n",
       "      <td>367229</td>\n",
       "      <td>None</td>\n",
       "      <td>Kasensero HC2</td>\n",
       "      <td>None</td>\n",
       "      <td>UG</td>\n",
       "      <td>None</td>\n",
       "      <td>False</td>\n",
       "      <td>None</td>\n",
       "      <td>[{'id': 129, 'unit': 'particles/cm³', 'count':...</td>\n",
       "      <td>None</td>\n",
       "      <td>{'latitude': -0.91343, 'longitude': 31.763}</td>\n",
       "      <td>2023-11-28T17:18:03+00:00</td>\n",
       "      <td>2022-10-20T12:24:52+00:00</td>\n",
       "      <td>1275354</td>\n",
       "      <td>[31.763, -0.91343, 31.763, -0.91343]</td>\n",
       "      <td>[{'modelName': 'PurpleAir Sensor', 'manufactur...</td>\n",
       "    </tr>\n",
       "  </tbody>\n",
       "</table>\n",
       "</div>"
      ],
      "text/plain": [
       "       id  city            name entity country sources  isMobile isAnalysis  \\\n",
       "0  526189  None            RHSP   None      UG    None     False       None   \n",
       "1  370295  None         KG Farm   None      UG    None     False       None   \n",
       "2  747107  None  Lyantonde RHSP   None      UG    None     False       None   \n",
       "3  551971  None       IPA Busia   None      UG    None     False       None   \n",
       "4  367229  None   Kasensero HC2   None      UG    None     False       None   \n",
       "\n",
       "                                          parameters sensorType  \\\n",
       "0  [{'id': 135, 'unit': 'particles/cm³', 'count':...       None   \n",
       "1  [{'id': 130, 'unit': 'particles/cm³', 'count':...       None   \n",
       "2  [{'id': 2, 'unit': 'µg/m³', 'count': 94614, 'a...       None   \n",
       "3  [{'id': 133, 'unit': 'particles/cm³', 'count':...       None   \n",
       "4  [{'id': 129, 'unit': 'particles/cm³', 'count':...       None   \n",
       "\n",
       "                                      coordinates                lastUpdated  \\\n",
       "0   {'latitude': -0.53842, 'longitude': 31.62202}  2023-11-28T17:19:04+00:00   \n",
       "1    {'latitude': 0.29693, 'longitude': 32.44406}  2023-11-28T17:18:51+00:00   \n",
       "2  {'latitude': -0.407055, 'longitude': 31.15865}  2023-11-28T17:18:40+00:00   \n",
       "3   {'latitude': 0.455464, 'longitude': 34.12366}  2023-11-28T17:18:35+00:00   \n",
       "4     {'latitude': -0.91343, 'longitude': 31.763}  2023-11-28T17:18:03+00:00   \n",
       "\n",
       "                firstUpdated  measurements  \\\n",
       "0  2020-07-07T00:16:13+00:00       1086031   \n",
       "1  2022-07-18T16:26:03+00:00        766218   \n",
       "2  2023-03-22T16:00:01+00:00        988584   \n",
       "3  2023-02-01T07:13:34+00:00       1076844   \n",
       "4  2022-10-20T12:24:52+00:00       1275354   \n",
       "\n",
       "                                       bounds  \\\n",
       "0    [31.62202, -0.53842, 31.62202, -0.53842]   \n",
       "1      [32.44406, 0.29693, 32.44406, 0.29693]   \n",
       "2  [31.15865, -0.407055, 31.15865, -0.407055]   \n",
       "3    [34.12366, 0.455464, 34.12366, 0.455464]   \n",
       "4        [31.763, -0.91343, 31.763, -0.91343]   \n",
       "\n",
       "                                       manufacturers  \n",
       "0  [{'modelName': 'PurpleAir Sensor', 'manufactur...  \n",
       "1  [{'modelName': 'PurpleAir Sensor', 'manufactur...  \n",
       "2  [{'modelName': 'PurpleAir Sensor', 'manufactur...  \n",
       "3  [{'modelName': 'PurpleAir Sensor', 'manufactur...  \n",
       "4  [{'modelName': 'PurpleAir Sensor', 'manufactur...  "
      ]
     },
     "execution_count": 20,
     "metadata": {},
     "output_type": "execute_result"
    }
   ],
   "source": [
    "# convert json to dataframe\n",
    "data = pd.DataFrame(results)\n",
    "data.head()"
   ]
  },
  {
   "cell_type": "code",
   "execution_count": null,
   "metadata": {},
   "outputs": [],
   "source": [
    "# data[['name']]"
   ]
  },
  {
   "cell_type": "code",
   "execution_count": null,
   "metadata": {},
   "outputs": [],
   "source": [
    "# general info\n",
    "data.info()"
   ]
  },
  {
   "cell_type": "code",
   "execution_count": null,
   "metadata": {},
   "outputs": [],
   "source": [
    "# number of rows, number of columns\n",
    "data.shape"
   ]
  },
  {
   "cell_type": "code",
   "execution_count": null,
   "metadata": {},
   "outputs": [],
   "source": [
    "data.dtypes"
   ]
  },
  {
   "cell_type": "code",
   "execution_count": null,
   "metadata": {},
   "outputs": [],
   "source": [
    "# Number of features/variables\n",
    "num_variables = len(data.columns)\n",
    "print(f\"Number of features/variables: {num_variables}\")"
   ]
  },
  {
   "cell_type": "markdown",
   "metadata": {},
   "source": [
    "Type of Each Feature:\n",
    "\n",
    "| **Categorical Features** | **Numerical Features**      | **Temporal Features**       |\n",
    "|--------------------------|-----------------------------|-----------------------------|\n",
    "| city                     | id                          | lastUpdated                 |\n",
    "| name                     | isMobile                    | firstUpdated                |\n",
    "| entity                   | isAnalysis                  |                             |\n",
    "| country                  | parameters                  |                             |\n",
    "| sources                  | coordinates                 |                             |\n",
    "| sensorType               | lastUpdated                 |                             |\n",
    "| manufacturers            | firstUpdated                |      "
   ]
  },
  {
   "cell_type": "code",
   "execution_count": null,
   "metadata": {},
   "outputs": [],
   "source": [
    "# Check for missing values in the dataset\n",
    "data.isnull()"
   ]
  },
  {
   "cell_type": "code",
   "execution_count": null,
   "metadata": {},
   "outputs": [],
   "source": [
    "# Count the number of missing values for each feature\n",
    "data.isnull().sum()\n"
   ]
  },
  {
   "cell_type": "code",
   "execution_count": null,
   "metadata": {},
   "outputs": [],
   "source": [
    "# Select only the relevant columns\n",
    "selected_columns = ['id', 'name', 'country', 'isMobile', 'parameters', 'coordinates', 'lastUpdated',\n",
    "                     'firstUpdated', 'measurements', 'bounds', 'manufacturers']\n",
    "\n",
    "# Subset the DataFrame with relevant columns\n",
    "selected_df = data[selected_columns]\n",
    "\n",
    "selected_df.head()"
   ]
  },
  {
   "cell_type": "code",
   "execution_count": null,
   "metadata": {},
   "outputs": [],
   "source": [
    "selected_df.describe()"
   ]
  },
  {
   "cell_type": "code",
   "execution_count": null,
   "metadata": {},
   "outputs": [],
   "source": [
    "# Compare air quality measurements over time to identify trends and patterns. \n",
    "# Are there specific months, seasons, or days of the week when air quality is consistently better or worse?\n",
    "\n",
    "# Convert 'lastUpdated' to datetime format\n",
    "data['lastUpdated'] = pd.to_datetime(data['lastUpdated'])\n",
    "\n",
    "# debugger\n",
    "# data['lastUpdated'].head()\n",
    "\n",
    "# Set 'lastUpdated' as the index\n",
    "data.set_index('lastUpdated', inplace=True)\n",
    "\n",
    "# Resample data to daily or weekly averages for smoother trends\n",
    "resampled_data = data['measurements'].resample('D').mean()  # 'D' for daily, 'W' for weekly\n",
    "\n",
    "# Plotting the temporal trends\n",
    "plt.figure(figsize=(12, 6))\n",
    "plt.plot(resampled_data.index, resampled_data, marker='o', linestyle='-', color='b')\n",
    "plt.title('Temporal Trends in Air Quality')\n",
    "plt.xlabel('Date')\n",
    "plt.ylabel('Average Air Quality Measurement')\n",
    "plt.grid(True)\n",
    "plt.show()"
   ]
  },
  {
   "cell_type": "markdown",
   "metadata": {},
   "source": [
    "The scatter plot shows the average air quality measurement for each month from July 2021 to Nov 2023. The air quality measurement is on a scale of 0 to 1, with 0 being the best air quality and 1 being the worst.\n",
    "\n",
    "The overall trend in air quality is positive, with the average air quality measurement decreasing over time. This suggests that air quality is improving overall. However, there are some fluctuations in air quality from month to month."
   ]
  },
  {
   "cell_type": "code",
   "execution_count": 22,
   "metadata": {},
   "outputs": [
    {
     "data": {
      "image/png": "[encoded data removed]",
      "text/plain": [
       "<Figure size 1200x800 with 2 Axes>"
      ]
     },
     "metadata": {},
     "output_type": "display_data"
    }
   ],
   "source": [
    "# univariate visualization: \n",
    "# geographical distribution of air quality measurements using the latitude and longitude information.\n",
    "\n",
    "# Convert 'coordinates' column to Point geometry\n",
    "data['geometry'] = data['coordinates'].apply(lambda coord: Point(coord['longitude'], coord['latitude']))\n",
    "\n",
    "# Create a GeoDataFrame\n",
    "gdf = gpd.GeoDataFrame(data, geometry='geometry')\n",
    "\n",
    "# Plotting\n",
    "fig, ax = plt.subplots(figsize=(12, 8))\n",
    "\n",
    "# Complex Univariate Visualization: Spatial Distribution of Air Quality Measurements\n",
    "# Color-coding based on air quality measurements\n",
    "scatter = gdf.plot(\n",
    "    ax=ax,\n",
    "    markersize=data['measurements'] / 5000,\n",
    "    c=data['measurements'],\n",
    "    cmap='viridis',\n",
    "    legend=True,\n",
    "    norm=LogNorm(),\n",
    "    alpha=0.7\n",
    ")\n",
    "\n",
    "# Add colorbar\n",
    "divider = make_axes_locatable(ax)\n",
    "cax = divider.append_axes(\"right\", size=\"5%\", pad=0.1)\n",
    "\n",
    "# Capture the mappable for the colorbar\n",
    "sm = plt.cm.ScalarMappable(cmap='viridis', norm=LogNorm())\n",
    "sm.set_array(data['measurements'])\n",
    "cbar = plt.colorbar(sm, cax=cax)\n",
    "cbar.set_label('Air Quality Measurements')\n",
    "\n",
    "# Center the title\n",
    "title = ax.set_title('Spatial Distribution of Air Quality Measurements')\n",
    "title.set_position([.5, 1.05])  # Adjust the y-coordinate to center the title\n",
    "\n",
    "plt.xlabel('Longitude')\n",
    "plt.ylabel('Latitude')\n",
    "plt.show()\n"
   ]
  },
  {
   "cell_type": "markdown",
   "metadata": {},
   "source": [
    "\n",
    "The air quality measurements from the scatter plot show the highest concentrations of air pollution in the southwest corner of the image, where the latitude and longitude values are lowest. The air pollution then decreases in concentration towards the northeast corner of the image, where the latitude and longitude values are highest. This suggests that there may be a source of air pollution in the southwest corner of the image, such as a factory or power plant.\n",
    "\n",
    "The colors in the scatter plot represent different levels of air pollution, with the darkest colors representing the highest levels of pollution. "
   ]
  },
  {
   "cell_type": "code",
   "execution_count": null,
   "metadata": {},
   "outputs": [],
   "source": []
  }
 ],
 "metadata": {
  "kernelspec": {
   "display_name": "data_analysis_theory",
   "language": "python",
   "name": "python3"
  },
  "language_info": {
   "codemirror_mode": {
    "name": "ipython",
    "version": 3
   },
   "file_extension": ".py",
   "mimetype": "text/x-python",
   "name": "python",
   "nbconvert_exporter": "python",
   "pygments_lexer": "ipython3",
   "version": "3.12.0"
  }
 },
 "nbformat": 4,
 "nbformat_minor": 2
}
